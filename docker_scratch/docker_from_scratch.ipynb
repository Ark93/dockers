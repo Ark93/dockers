{
 "cells": [
  {
   "cell_type": "markdown",
   "metadata": {},
   "source": [
    "source: https://runnable.com/docker/python/dockerize-your-python-application\n",
    "\n",
    "resources: https://docs.docker.com/engine/reference/builder/"
   ]
  },
  {
   "cell_type": "code",
   "execution_count": 1,
   "metadata": {},
   "outputs": [],
   "source": [
    "# First, start with a fresh empty directory\n",
    "!mkdir docker_build"
   ]
  },
  {
   "cell_type": "markdown",
   "metadata": {},
   "source": [
    "create a new file named Dockerfile (with no extension)\n",
    "(this is an example, remember to erase comments)"
   ]
  },
  {
   "cell_type": "code",
   "execution_count": 6,
   "metadata": {},
   "outputs": [
    {
     "name": "stdout",
     "output_type": "stream",
     "text": [
      "Writing docker_build/Dockerfile\n"
     ]
    }
   ],
   "source": [
    "%%writefile docker_build/Dockerfile\n",
    "FROM python:3 #this indicates which image to use\n",
    "    \n",
    "ADD my_script.py / #indicates which files to add and where \n",
    "\n",
    "RUN pip install pystrich #command to run when creating the docker\n",
    "\n",
    "CMD [ \"python\", \"./my_script.py\" ] # Command to run when starting docker"
   ]
  },
  {
   "cell_type": "markdown",
   "metadata": {},
   "source": [
    "Run docker build to create an image\n",
    "\n",
    "docker build -t python-barcode ."
   ]
  },
  {
   "cell_type": "markdown",
   "metadata": {},
   "source": [
    "Let's check if the image builded correctly\n",
    "\n",
    "!docker images"
   ]
  },
  {
   "cell_type": "markdown",
   "metadata": {},
   "source": [
    "REPOSITORY               TAG                 IMAGE ID            CREATED             SIZE\n",
    "python-barcode           latest              704d6e7b7c04        2 minutes ago       959MB\n",
    "python                   3                   ea8c3fb3cd86        26 hours ago        934MB"
   ]
  },
  {
   "cell_type": "markdown",
   "metadata": {},
   "source": [
    "This command shows our saved docker images. The first image is the one we builded and the second is the image base downloaded from docker (remember FROM python:3)"
   ]
  },
  {
   "cell_type": "code",
   "execution_count": null,
   "metadata": {},
   "outputs": [],
   "source": [
    "#run image\n",
    "\n",
    "!docker run python-barcode"
   ]
  },
  {
   "cell_type": "markdown",
   "metadata": {},
   "source": [
    "    \n",
    "    XX  XX  XX  XX  XX  XX  XX  XX  XX  XX\n",
    "    XX  XX  XX  XXXX    XX  XX      XX  XXXX\n",
    "    XXXX  XX    XX    XXXX    XXXXXX    XX\n",
    "    XX    XXXX      XXXX  XXXX        XX  XX\n",
    "    XX    XX    XXXX      XX  XX\n",
    "    XXXXXX  XX  XX  XX  XXXX  XXXXXX    XXXX\n",
    "    XXXX  XX          XXXX  XXXX    XX  XX\n",
    "    XXXX      XX  XXXXXX  XXXX        XXXXXX\n",
    "    XX    XX      XX  XXXXXX    XX  XX  XX\n",
    "    XX  XX    XXXX  XX  XXXX    XXXXXX    XX\n",
    "    XXXX      XX  XX    XXXX  XXXXXX  XX\n",
    "    XX  XX  XXXXXX  XX    XX  XXXX  XX    XX\n",
    "    XX          XX      XXXX  XX  XXXXXXXX\n",
    "    XXXXXX  XXXXXX  XXXX  XXXXXXXXXXXX    XX\n",
    "    XX  XXXXXX  XX    XX      XXXXXXXX\n",
    "    XX    XX    XX  XX  XX    XXXXXXXXXX  XX\n",
    "    XX  XXXXXXXX  XX    XXXXXX  XX  XX  XX\n",
    "    XX  XX        XXXX  XX  XXXX  XX      XX\n",
    "    XXXX  XX  XXXX    XX      XX  XXXX\n",
    "    XXXXXXXXXXXXXXXXXXXXXXXXXXXXXXXXXXXXXXXX\n"
   ]
  }
 ],
 "metadata": {
  "kernelspec": {
   "display_name": "Python 3",
   "language": "python",
   "name": "python3"
  },
  "language_info": {
   "codemirror_mode": {
    "name": "ipython",
    "version": 3
   },
   "file_extension": ".py",
   "mimetype": "text/x-python",
   "name": "python",
   "nbconvert_exporter": "python",
   "pygments_lexer": "ipython3",
   "version": "3.8.3"
  }
 },
 "nbformat": 4,
 "nbformat_minor": 4
}
