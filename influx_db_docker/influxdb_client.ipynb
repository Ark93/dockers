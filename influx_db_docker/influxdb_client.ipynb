{
 "cells": [
  {
   "cell_type": "markdown",
   "metadata": {},
   "source": [
    "**source:**\n",
    "* https://thedatafrog.com/en/articles/docker-influxdb-grafana/\n",
    "\n",
    "**resources:**\n",
    "* https://docs.influxdata.com/influxdb/v1.8/introduction/get-started/\n",
    "* https://www.influxdata.com/blog/getting-started-python-influxdb/\n",
    "* https://influxdb-python.readthedocs.io/en/latest/"
   ]
  },
  {
   "cell_type": "code",
   "execution_count": 2,
   "metadata": {},
   "outputs": [
    {
     "name": "stdout",
     "output_type": "stream",
     "text": [
      "Collecting influxdb\n",
      "  Downloading influxdb-5.3.0-py2.py3-none-any.whl (77 kB)\n",
      "\u001b[K     |████████████████████████████████| 77 kB 350 kB/s eta 0:00:011\n",
      "\u001b[?25hCollecting msgpack==0.6.1\n",
      "  Downloading msgpack-0.6.1.tar.gz (118 kB)\n",
      "\u001b[K     |████████████████████████████████| 118 kB 1.3 MB/s eta 0:00:01\n",
      "\u001b[?25hRequirement already satisfied: requests>=2.17.0 in /opt/conda/lib/python3.8/site-packages (from influxdb) (2.24.0)\n",
      "Requirement already satisfied: six>=1.10.0 in /opt/conda/lib/python3.8/site-packages (from influxdb) (1.15.0)\n",
      "Requirement already satisfied: python-dateutil>=2.6.0 in /opt/conda/lib/python3.8/site-packages (from influxdb) (2.8.1)\n",
      "Requirement already satisfied: pytz in /opt/conda/lib/python3.8/site-packages (from influxdb) (2020.1)\n",
      "Requirement already satisfied: certifi>=2017.4.17 in /opt/conda/lib/python3.8/site-packages (from requests>=2.17.0->influxdb) (2020.6.20)\n",
      "Requirement already satisfied: idna<3,>=2.5 in /opt/conda/lib/python3.8/site-packages (from requests>=2.17.0->influxdb) (2.10)\n",
      "Requirement already satisfied: chardet<4,>=3.0.2 in /opt/conda/lib/python3.8/site-packages (from requests>=2.17.0->influxdb) (3.0.4)\n",
      "Requirement already satisfied: urllib3!=1.25.0,!=1.25.1,<1.26,>=1.21.1 in /opt/conda/lib/python3.8/site-packages (from requests>=2.17.0->influxdb) (1.25.9)\n",
      "Building wheels for collected packages: msgpack\n",
      "  Building wheel for msgpack (setup.py) ... \u001b[?25ldone\n",
      "\u001b[?25h  Created wheel for msgpack: filename=msgpack-0.6.1-cp38-cp38-linux_x86_64.whl size=343732 sha256=b4ac7b1bffd92aac179f248b95a8c1662987dee3281c432db616bc05893a0d3d\n",
      "  Stored in directory: /home/jovyan/.cache/pip/wheels/56/2e/45/9ae160fc31c10e4b799d0ebc32ba82b32f1b057e0ebf28ea82\n",
      "Successfully built msgpack\n",
      "Installing collected packages: msgpack, influxdb\n",
      "  Attempting uninstall: msgpack\n",
      "    Found existing installation: msgpack 1.0.0\n",
      "    Uninstalling msgpack-1.0.0:\n",
      "      Successfully uninstalled msgpack-1.0.0\n",
      "Successfully installed influxdb-5.3.0 msgpack-0.6.1\n"
     ]
    }
   ],
   "source": [
    "# instaling influxdb library\n",
    "!pip install influxdb"
   ]
  },
  {
   "cell_type": "code",
   "execution_count": 1,
   "metadata": {},
   "outputs": [],
   "source": [
    "from influxdb import InfluxDBClient\n",
    "from influxdb import exceptions"
   ]
  },
  {
   "cell_type": "code",
   "execution_count": 2,
   "metadata": {},
   "outputs": [
    {
     "name": "stdout",
     "output_type": "stream",
     "text": [
      "Connected to InfluxDB\n"
     ]
    }
   ],
   "source": [
    "try:\n",
    "    client = InfluxDBClient('localhost', 8086)\n",
    "    client.ping()\n",
    "    print('Connected to InfluxDB')\n",
    "except Exception as e:\n",
    "    print('Connection error: {}'.format(str(e)))"
   ]
  },
  {
   "cell_type": "code",
   "execution_count": 4,
   "metadata": {},
   "outputs": [],
   "source": [
    "# Creating a test db\n",
    "\n",
    "client.create_database('testdb')"
   ]
  },
  {
   "cell_type": "code",
   "execution_count": 3,
   "metadata": {},
   "outputs": [
    {
     "data": {
      "text/plain": [
       "[{'name': '_internal'}, {'name': 'testdb'}]"
      ]
     },
     "execution_count": 3,
     "metadata": {},
     "output_type": "execute_result"
    }
   ],
   "source": [
    "# Let's check the list of databases\n",
    "\n",
    "client.get_list_database()"
   ]
  },
  {
   "cell_type": "markdown",
   "metadata": {},
   "source": [
    "To send data to influxdb we have to use a JSON format to indicate \n",
    "\n",
    "1.- Measurement (mandatory field)\n",
    "2.- Tags (optional field)\n",
    "3.- Time (optional field. If no time value is given Influx db will use the system's timestamp)\n",
    "4.- Field (mandatory)"
   ]
  },
  {
   "cell_type": "code",
   "execution_count": 8,
   "metadata": {},
   "outputs": [],
   "source": [
    "# from influx db python documentation\n",
    "json_body = [\n",
    "    {\n",
    "        \"measurement\": \"cpu_load_short\",\n",
    "        \"tags\": {\n",
    "            \"host\": \"server01\",\n",
    "            \"region\": \"us-west\"\n",
    "        },\n",
    "        \"time\": \"2009-11-10T23:00:00Z\",\n",
    "        \"fields\": {\n",
    "            \"value\": 0.64\n",
    "        }\n",
    "    }\n",
    "]\n"
   ]
  },
  {
   "cell_type": "code",
   "execution_count": 10,
   "metadata": {},
   "outputs": [
    {
     "data": {
      "text/plain": [
       "True"
      ]
     },
     "execution_count": 10,
     "metadata": {},
     "output_type": "execute_result"
    }
   ],
   "source": [
    "# write_points function also can take de different fields as parameters. See documentation.\n",
    "\n",
    "client.write_points(json_body, database='testdb')"
   ]
  },
  {
   "cell_type": "code",
   "execution_count": 17,
   "metadata": {},
   "outputs": [],
   "source": [
    "# Let's check the value was stored correctly\n",
    "\n",
    "result = client.query('select \"host\", \"region\", \"value\" from cpu_load_short;', database='testdb')"
   ]
  },
  {
   "cell_type": "code",
   "execution_count": 19,
   "metadata": {},
   "outputs": [
    {
     "name": "stdout",
     "output_type": "stream",
     "text": [
      "Result: ResultSet({'('cpu_load_short', None)': [{'time': '2009-11-10T23:00:00Z', 'host': 'server01', 'region': 'us-west', 'value': 0.64}]})\n"
     ]
    }
   ],
   "source": [
    "# seems like is working just right\n",
    "print(\"Result: {0}\".format(result))"
   ]
  },
  {
   "cell_type": "markdown",
   "metadata": {},
   "source": [
    "* The **measurement** acts as a container for tags, fields, and the time column, and the measurement name is the description of the data that are stored in the associated fields. \n",
    "* **Field** values are your data; they can be strings, floats, integers, or Booleans, and, because InfluxDB is a time series database, a field value is always associated with a timestamp\n",
    "* **Tags** are made up of tag keys and tag values. Both tag keys and tag values are stored as strings and record metadata.Tags are optional. You don’t need to have tags in your data structure, but it’s generally a good idea to make use of them because, unlike fields, tags are indexed.\n",
    "* A **retention policy** describes how long InfluxDB keeps data (DURATION) and how many copies of this data is stored in the cluster (REPLICATION).\n",
    "* A **series** is a collection of points that share a measurement, tag set, and field key.\n",
    "* A **point** represents a single data record that has four components: a measurement, tag set, field set, and a timestamp.\n",
    "* **Continuous queries (CQ)** are InfluxQL queries that run automatically and periodically on realtime data and store query results in a specified measurement"
   ]
  },
  {
   "cell_type": "code",
   "execution_count": 9,
   "metadata": {},
   "outputs": [],
   "source": [
    "client.switch_database('testdb')"
   ]
  },
  {
   "cell_type": "code",
   "execution_count": 10,
   "metadata": {},
   "outputs": [
    {
     "data": {
      "text/plain": [
       "[{'name': 'cpu_load_short'}, {'name': 'mxx'}]"
      ]
     },
     "execution_count": 10,
     "metadata": {},
     "output_type": "execute_result"
    }
   ],
   "source": [
    "client.get_list_measurements()"
   ]
  },
  {
   "cell_type": "code",
   "execution_count": 11,
   "metadata": {},
   "outputs": [
    {
     "data": {
      "text/plain": [
       "['cpu_load_short,host=server01,region=us-west',\n",
       " 'mxx,measurement_type=day,source=yahoo']"
      ]
     },
     "execution_count": 11,
     "metadata": {},
     "output_type": "execute_result"
    }
   ],
   "source": [
    "client.get_list_series()"
   ]
  },
  {
   "cell_type": "code",
   "execution_count": 14,
   "metadata": {},
   "outputs": [],
   "source": [
    "result = client.query('select \"measurement_type\", \"source\", \"value\" from mxx;', database='testdb')"
   ]
  },
  {
   "cell_type": "code",
   "execution_count": 16,
   "metadata": {},
   "outputs": [
    {
     "name": "stdout",
     "output_type": "stream",
     "text": [
      "ResultSet({'('mxx', None)': [{'time': '2020-07-17T18:00:13.389995Z', 'measurement_type': 'day', 'source': 'yahoo', 'value': 36327.83984375}, {'time': '2020-07-17T18:35:43.009230Z', 'measurement_type': 'day', 'source': 'yahoo', 'value': 36327.83984375}, {'time': '2020-07-17T23:40:32.066297Z', 'measurement_type': 'day', 'source': 'yahoo', 'value': 36327.83984375}, {'time': '2020-07-17T23:52:27.720545Z', 'measurement_type': 'day', 'source': 'yahoo', 'value': 36327.83984375}, {'time': '2020-07-17T23:52:29.563945Z', 'measurement_type': 'day', 'source': 'yahoo', 'value': 36327.83984375}, {'time': '2020-07-18T00:02:41.960505Z', 'measurement_type': 'day', 'source': 'yahoo', 'value': 36327.83984375}, {'time': '2020-07-18T00:02:43.653096Z', 'measurement_type': 'day', 'source': 'yahoo', 'value': 36327.83984375}, {'time': '2020-07-18T00:02:45.232742Z', 'measurement_type': 'day', 'source': 'yahoo', 'value': 36327.83984375}, {'time': '2020-07-18T00:02:46.973521Z', 'measurement_type': 'day', 'source': 'yahoo', 'value': 36327.83984375}, {'time': '2020-07-18T00:02:48.862387Z', 'measurement_type': 'day', 'source': 'yahoo', 'value': 36327.83984375}, {'time': '2020-07-18T00:02:50.665251Z', 'measurement_type': 'day', 'source': 'yahoo', 'value': 36327.83984375}, {'time': '2020-07-18T00:02:52.563711Z', 'measurement_type': 'day', 'source': 'yahoo', 'value': 36327.83984375}, {'time': '2020-07-18T00:02:54.367060Z', 'measurement_type': 'day', 'source': 'yahoo', 'value': 36327.83984375}, {'time': '2020-07-18T00:02:56.276123Z', 'measurement_type': 'day', 'source': 'yahoo', 'value': 36327.83984375}, {'time': '2020-07-18T00:02:58.090087Z', 'measurement_type': 'day', 'source': 'yahoo', 'value': 36327.83984375}, {'time': '2020-07-18T00:02:59.771690Z', 'measurement_type': 'day', 'source': 'yahoo', 'value': 36327.83984375}, {'time': '2020-07-18T00:03:01.465360Z', 'measurement_type': 'day', 'source': 'yahoo', 'value': 36327.83984375}, {'time': '2020-07-18T00:03:03.041244Z', 'measurement_type': 'day', 'source': 'yahoo', 'value': 36327.83984375}, {'time': '2020-07-18T00:03:04.819402Z', 'measurement_type': 'day', 'source': 'yahoo', 'value': 36327.83984375}, {'time': '2020-07-18T00:03:06.535109Z', 'measurement_type': 'day', 'source': 'yahoo', 'value': 36327.83984375}, {'time': '2020-07-18T00:03:08.239056Z', 'measurement_type': 'day', 'source': 'yahoo', 'value': 36327.83984375}, {'time': '2020-07-18T00:03:10.048026Z', 'measurement_type': 'day', 'source': 'yahoo', 'value': 36327.83984375}, {'time': '2020-07-18T00:03:11.759255Z', 'measurement_type': 'day', 'source': 'yahoo', 'value': 36327.83984375}, {'time': '2020-07-18T00:03:13.658499Z', 'measurement_type': 'day', 'source': 'yahoo', 'value': 36327.83984375}, {'time': '2020-07-18T00:03:15.518914Z', 'measurement_type': 'day', 'source': 'yahoo', 'value': 36327.83984375}, {'time': '2020-07-18T00:03:17.207819Z', 'measurement_type': 'day', 'source': 'yahoo', 'value': 36327.83984375}, {'time': '2020-07-18T00:03:18.762265Z', 'measurement_type': 'day', 'source': 'yahoo', 'value': 36327.83984375}, {'time': '2020-07-18T00:03:20.465657Z', 'measurement_type': 'day', 'source': 'yahoo', 'value': 36327.83984375}, {'time': '2020-07-18T00:03:22.100997Z', 'measurement_type': 'day', 'source': 'yahoo', 'value': 36327.83984375}, {'time': '2020-07-18T00:03:23.714717Z', 'measurement_type': 'day', 'source': 'yahoo', 'value': 36327.83984375}, {'time': '2020-07-18T00:03:25.261990Z', 'measurement_type': 'day', 'source': 'yahoo', 'value': 36327.83984375}, {'time': '2020-07-18T00:03:26.951228Z', 'measurement_type': 'day', 'source': 'yahoo', 'value': 36327.83984375}, {'time': '2020-07-18T00:03:28.711395Z', 'measurement_type': 'day', 'source': 'yahoo', 'value': 36327.83984375}, {'time': '2020-07-18T00:03:30.431169Z', 'measurement_type': 'day', 'source': 'yahoo', 'value': 36327.83984375}, {'time': '2020-07-18T00:03:32.123946Z', 'measurement_type': 'day', 'source': 'yahoo', 'value': 36327.83984375}, {'time': '2020-07-18T00:03:33.771786Z', 'measurement_type': 'day', 'source': 'yahoo', 'value': 36327.83984375}, {'time': '2020-07-18T00:03:35.674863Z', 'measurement_type': 'day', 'source': 'yahoo', 'value': 36327.83984375}, {'time': '2020-07-18T00:03:37.357774Z', 'measurement_type': 'day', 'source': 'yahoo', 'value': 36327.83984375}, {'time': '2020-07-18T00:03:39.024297Z', 'measurement_type': 'day', 'source': 'yahoo', 'value': 36327.83984375}, {'time': '2020-07-18T00:03:40.732730Z', 'measurement_type': 'day', 'source': 'yahoo', 'value': 36327.83984375}, {'time': '2020-07-18T00:03:42.407610Z', 'measurement_type': 'day', 'source': 'yahoo', 'value': 36327.83984375}, {'time': '2020-07-18T00:03:44.086600Z', 'measurement_type': 'day', 'source': 'yahoo', 'value': 36327.83984375}, {'time': '2020-07-18T00:03:45.901814Z', 'measurement_type': 'day', 'source': 'yahoo', 'value': 36327.83984375}, {'time': '2020-07-18T00:03:47.725929Z', 'measurement_type': 'day', 'source': 'yahoo', 'value': 36327.83984375}, {'time': '2020-07-18T00:03:49.376038Z', 'measurement_type': 'day', 'source': 'yahoo', 'value': 36327.83984375}, {'time': '2020-07-18T00:03:51.239070Z', 'measurement_type': 'day', 'source': 'yahoo', 'value': 36327.83984375}, {'time': '2020-07-18T00:03:52.906752Z', 'measurement_type': 'day', 'source': 'yahoo', 'value': 36327.83984375}, {'time': '2020-07-18T00:04:07.691788Z', 'measurement_type': 'day', 'source': 'yahoo', 'value': 36327.83984375}, {'time': '2020-07-18T00:04:09.252558Z', 'measurement_type': 'day', 'source': 'yahoo', 'value': 36327.83984375}, {'time': '2020-07-18T00:04:10.935657Z', 'measurement_type': 'day', 'source': 'yahoo', 'value': 36327.83984375}, {'time': '2020-07-18T00:04:12.578966Z', 'measurement_type': 'day', 'source': 'yahoo', 'value': 36327.83984375}, {'time': '2020-07-18T00:04:14.254126Z', 'measurement_type': 'day', 'source': 'yahoo', 'value': 36327.83984375}, {'time': '2020-07-18T00:04:15.965633Z', 'measurement_type': 'day', 'source': 'yahoo', 'value': 36327.83984375}, {'time': '2020-07-18T00:04:17.629047Z', 'measurement_type': 'day', 'source': 'yahoo', 'value': 36327.83984375}, {'time': '2020-07-18T00:04:19.509243Z', 'measurement_type': 'day', 'source': 'yahoo', 'value': 36327.83984375}, {'time': '2020-07-18T00:04:21.224646Z', 'measurement_type': 'day', 'source': 'yahoo', 'value': 36327.83984375}, {'time': '2020-07-18T00:04:22.925504Z', 'measurement_type': 'day', 'source': 'yahoo', 'value': 36327.83984375}, {'time': '2020-07-18T00:04:24.573993Z', 'measurement_type': 'day', 'source': 'yahoo', 'value': 36327.83984375}, {'time': '2020-07-18T00:04:26.207370Z', 'measurement_type': 'day', 'source': 'yahoo', 'value': 36327.83984375}, {'time': '2020-07-18T00:04:27.882058Z', 'measurement_type': 'day', 'source': 'yahoo', 'value': 36327.83984375}, {'time': '2020-07-18T00:04:29.579153Z', 'measurement_type': 'day', 'source': 'yahoo', 'value': 36327.83984375}, {'time': '2020-07-18T00:04:31.242895Z', 'measurement_type': 'day', 'source': 'yahoo', 'value': 36327.83984375}, {'time': '2020-07-18T00:04:32.861415Z', 'measurement_type': 'day', 'source': 'yahoo', 'value': 36327.83984375}, {'time': '2020-07-18T00:04:34.535788Z', 'measurement_type': 'day', 'source': 'yahoo', 'value': 36327.83984375}, {'time': '2020-07-18T00:04:36.358323Z', 'measurement_type': 'day', 'source': 'yahoo', 'value': 36327.83984375}, {'time': '2020-07-18T00:04:38.164462Z', 'measurement_type': 'day', 'source': 'yahoo', 'value': 36327.83984375}, {'time': '2020-07-18T00:04:39.731593Z', 'measurement_type': 'day', 'source': 'yahoo', 'value': 36327.83984375}, {'time': '2020-07-18T00:04:41.462384Z', 'measurement_type': 'day', 'source': 'yahoo', 'value': 36327.83984375}, {'time': '2020-07-18T00:04:43.114244Z', 'measurement_type': 'day', 'source': 'yahoo', 'value': 36327.83984375}, {'time': '2020-07-18T00:04:44.732096Z', 'measurement_type': 'day', 'source': 'yahoo', 'value': 36327.83984375}, {'time': '2020-07-18T00:04:46.487022Z', 'measurement_type': 'day', 'source': 'yahoo', 'value': 36327.83984375}, {'time': '2020-07-18T00:05:03.778384Z', 'measurement_type': 'day', 'source': 'yahoo', 'value': 36327.83984375}, {'time': '2020-07-18T00:05:05.409391Z', 'measurement_type': 'day', 'source': 'yahoo', 'value': 36327.83984375}, {'time': '2020-07-18T00:05:07.071700Z', 'measurement_type': 'day', 'source': 'yahoo', 'value': 36327.83984375}, {'time': '2020-07-18T00:05:08.716474Z', 'measurement_type': 'day', 'source': 'yahoo', 'value': 36327.83984375}, {'time': '2020-07-18T00:05:10.331292Z', 'measurement_type': 'day', 'source': 'yahoo', 'value': 36327.83984375}, {'time': '2020-07-18T00:05:11.970483Z', 'measurement_type': 'day', 'source': 'yahoo', 'value': 36327.83984375}, {'time': '2020-07-18T00:05:13.605025Z', 'measurement_type': 'day', 'source': 'yahoo', 'value': 36327.83984375}, {'time': '2020-07-18T00:05:15.402905Z', 'measurement_type': 'day', 'source': 'yahoo', 'value': 36327.83984375}, {'time': '2020-07-18T00:05:17.239873Z', 'measurement_type': 'day', 'source': 'yahoo', 'value': 36327.83984375}, {'time': '2020-07-18T00:05:19.066888Z', 'measurement_type': 'day', 'source': 'yahoo', 'value': 36327.83984375}, {'time': '2020-07-18T00:05:20.694575Z', 'measurement_type': 'day', 'source': 'yahoo', 'value': 36327.83984375}, {'time': '2020-07-18T00:05:25.306024Z', 'measurement_type': 'day', 'source': 'yahoo', 'value': 36327.83984375}, {'time': '2020-07-18T00:05:27.009664Z', 'measurement_type': 'day', 'source': 'yahoo', 'value': 36327.83984375}, {'time': '2020-07-18T00:05:28.657945Z', 'measurement_type': 'day', 'source': 'yahoo', 'value': 36327.83984375}, {'time': '2020-07-18T00:05:30.312267Z', 'measurement_type': 'day', 'source': 'yahoo', 'value': 36327.83984375}, {'time': '2020-07-18T00:05:32.207528Z', 'measurement_type': 'day', 'source': 'yahoo', 'value': 36327.83984375}, {'time': '2020-07-18T00:05:33.855994Z', 'measurement_type': 'day', 'source': 'yahoo', 'value': 36327.83984375}, {'time': '2020-07-18T00:05:35.419769Z', 'measurement_type': 'day', 'source': 'yahoo', 'value': 36327.83984375}, {'time': '2020-07-18T00:05:37.095291Z', 'measurement_type': 'day', 'source': 'yahoo', 'value': 36327.83984375}, {'time': '2020-07-18T00:05:38.693111Z', 'measurement_type': 'day', 'source': 'yahoo', 'value': 36327.83984375}, {'time': '2020-07-18T00:06:04.474407Z', 'measurement_type': 'day', 'source': 'yahoo', 'value': 36327.83984375}, {'time': '2020-07-18T00:06:06.152736Z', 'measurement_type': 'day', 'source': 'yahoo', 'value': 36327.83984375}, {'time': '2020-07-18T00:06:07.782133Z', 'measurement_type': 'day', 'source': 'yahoo', 'value': 36327.83984375}, {'time': '2020-07-18T00:06:09.419820Z', 'measurement_type': 'day', 'source': 'yahoo', 'value': 36327.83984375}, {'time': '2020-07-18T00:06:15.669549Z', 'measurement_type': 'day', 'source': 'yahoo', 'value': 36327.83984375}, {'time': '2020-07-18T00:06:17.309910Z', 'measurement_type': 'day', 'source': 'yahoo', 'value': 36327.83984375}, {'time': '2020-07-18T00:06:18.980379Z', 'measurement_type': 'day', 'source': 'yahoo', 'value': 36327.83984375}, {'time': '2020-07-18T00:06:20.609258Z', 'measurement_type': 'day', 'source': 'yahoo', 'value': 36327.83984375}, {'time': '2020-07-18T00:06:22.248596Z', 'measurement_type': 'day', 'source': 'yahoo', 'value': 36327.83984375}, {'time': '2020-07-18T00:06:23.959553Z', 'measurement_type': 'day', 'source': 'yahoo', 'value': 36327.83984375}, {'time': '2020-07-18T00:06:25.628019Z', 'measurement_type': 'day', 'source': 'yahoo', 'value': 36327.83984375}, {'time': '2020-07-18T00:06:27.324169Z', 'measurement_type': 'day', 'source': 'yahoo', 'value': 36327.83984375}, {'time': '2020-07-18T00:06:28.981301Z', 'measurement_type': 'day', 'source': 'yahoo', 'value': 36327.83984375}, {'time': '2020-07-18T00:06:30.733961Z', 'measurement_type': 'day', 'source': 'yahoo', 'value': 36327.83984375}, {'time': '2020-07-18T00:06:32.352098Z', 'measurement_type': 'day', 'source': 'yahoo', 'value': 36327.83984375}, {'time': '2020-07-18T00:06:33.992522Z', 'measurement_type': 'day', 'source': 'yahoo', 'value': 36327.83984375}, {'time': '2020-07-18T00:06:41.577074Z', 'measurement_type': 'day', 'source': 'yahoo', 'value': 36327.83984375}, {'time': '2020-07-18T00:06:43.403076Z', 'measurement_type': 'day', 'source': 'yahoo', 'value': 36327.83984375}, {'time': '2020-07-18T00:06:45.061955Z', 'measurement_type': 'day', 'source': 'yahoo', 'value': 36327.83984375}, {'time': '2020-07-18T00:06:46.894360Z', 'measurement_type': 'day', 'source': 'yahoo', 'value': 36327.83984375}, {'time': '2020-07-18T00:06:48.540924Z', 'measurement_type': 'day', 'source': 'yahoo', 'value': 36327.83984375}, {'time': '2020-07-18T00:06:50.192519Z', 'measurement_type': 'day', 'source': 'yahoo', 'value': 36327.83984375}, {'time': '2020-07-18T00:06:51.923872Z', 'measurement_type': 'day', 'source': 'yahoo', 'value': 36327.83984375}, {'time': '2020-07-18T00:08:56.428414Z', 'measurement_type': 'day', 'source': 'yahoo', 'value': 36327.83984375}, {'time': '2020-07-18T00:08:58.294551Z', 'measurement_type': 'day', 'source': 'yahoo', 'value': 36327.83984375}, {'time': '2020-07-18T00:09:00.067618Z', 'measurement_type': 'day', 'source': 'yahoo', 'value': 36327.83984375}, {'time': '2020-07-18T00:09:01.791221Z', 'measurement_type': 'day', 'source': 'yahoo', 'value': 36327.83984375}, {'time': '2020-07-18T00:09:03.556183Z', 'measurement_type': 'day', 'source': 'yahoo', 'value': 36327.83984375}, {'time': '2020-07-18T00:09:05.291359Z', 'measurement_type': 'day', 'source': 'yahoo', 'value': 36327.83984375}, {'time': '2020-07-18T00:09:07.040487Z', 'measurement_type': 'day', 'source': 'yahoo', 'value': 36327.83984375}, {'time': '2020-07-18T00:09:09.029346Z', 'measurement_type': 'day', 'source': 'yahoo', 'value': 36327.83984375}, {'time': '2020-07-18T00:09:11.018084Z', 'measurement_type': 'day', 'source': 'yahoo', 'value': 36327.83984375}, {'time': '2020-07-18T00:09:12.861848Z', 'measurement_type': 'day', 'source': 'yahoo', 'value': 36327.83984375}, {'time': '2020-07-18T00:09:14.620263Z', 'measurement_type': 'day', 'source': 'yahoo', 'value': 36327.83984375}, {'time': '2020-07-18T00:09:16.495385Z', 'measurement_type': 'day', 'source': 'yahoo', 'value': 36327.83984375}, {'time': '2020-07-18T00:09:18.173050Z', 'measurement_type': 'day', 'source': 'yahoo', 'value': 36327.83984375}, {'time': '2020-07-18T00:09:19.916736Z', 'measurement_type': 'day', 'source': 'yahoo', 'value': 36327.83984375}, {'time': '2020-07-18T00:09:21.666515Z', 'measurement_type': 'day', 'source': 'yahoo', 'value': 36327.83984375}, {'time': '2020-07-18T00:09:23.533935Z', 'measurement_type': 'day', 'source': 'yahoo', 'value': 36327.83984375}, {'time': '2020-07-18T00:09:33.403268Z', 'measurement_type': 'day', 'source': 'yahoo', 'value': 36327.83984375}, {'time': '2020-07-18T00:09:35.159589Z', 'measurement_type': 'day', 'source': 'yahoo', 'value': 36327.83984375}, {'time': '2020-07-18T00:09:36.877389Z', 'measurement_type': 'day', 'source': 'yahoo', 'value': 36327.83984375}, {'time': '2020-07-18T00:09:38.540682Z', 'measurement_type': 'day', 'source': 'yahoo', 'value': 36327.83984375}, {'time': '2020-07-18T00:09:40.500128Z', 'measurement_type': 'day', 'source': 'yahoo', 'value': 36327.83984375}, {'time': '2020-07-18T00:09:42.180379Z', 'measurement_type': 'day', 'source': 'yahoo', 'value': 36327.83984375}, {'time': '2020-07-18T00:09:43.864313Z', 'measurement_type': 'day', 'source': 'yahoo', 'value': 36327.83984375}, {'time': '2020-07-18T00:09:45.607906Z', 'measurement_type': 'day', 'source': 'yahoo', 'value': 36327.83984375}, {'time': '2020-07-18T00:09:47.579933Z', 'measurement_type': 'day', 'source': 'yahoo', 'value': 36327.83984375}, {'time': '2020-07-18T00:09:49.242648Z', 'measurement_type': 'day', 'source': 'yahoo', 'value': 36327.83984375}, {'time': '2020-07-18T00:09:50.879652Z', 'measurement_type': 'day', 'source': 'yahoo', 'value': 36327.83984375}, {'time': '2020-07-18T00:09:52.760675Z', 'measurement_type': 'day', 'source': 'yahoo', 'value': 36327.83984375}, {'time': '2020-07-18T00:09:54.427565Z', 'measurement_type': 'day', 'source': 'yahoo', 'value': 36327.83984375}, {'time': '2020-07-18T00:09:56.432783Z', 'measurement_type': 'day', 'source': 'yahoo', 'value': 36327.83984375}, {'time': '2020-07-18T00:09:58.162317Z', 'measurement_type': 'day', 'source': 'yahoo', 'value': 36327.83984375}, {'time': '2020-07-18T00:09:59.962759Z', 'measurement_type': 'day', 'source': 'yahoo', 'value': 36327.83984375}, {'time': '2020-07-18T00:10:01.625138Z', 'measurement_type': 'day', 'source': 'yahoo', 'value': 36327.83984375}, {'time': '2020-07-18T00:10:03.503491Z', 'measurement_type': 'day', 'source': 'yahoo', 'value': 36327.83984375}, {'time': '2020-07-18T00:10:05.161362Z', 'measurement_type': 'day', 'source': 'yahoo', 'value': 36327.83984375}, {'time': '2020-07-18T00:10:07.008570Z', 'measurement_type': 'day', 'source': 'yahoo', 'value': 36327.83984375}, {'time': '2020-07-18T00:10:08.881175Z', 'measurement_type': 'day', 'source': 'yahoo', 'value': 36327.83984375}, {'time': '2020-07-18T00:10:10.552781Z', 'measurement_type': 'day', 'source': 'yahoo', 'value': 36327.83984375}, {'time': '2020-07-18T00:10:12.403011Z', 'measurement_type': 'day', 'source': 'yahoo', 'value': 36327.83984375}, {'time': '2020-07-18T00:10:14.246303Z', 'measurement_type': 'day', 'source': 'yahoo', 'value': 36327.83984375}, {'time': '2020-07-18T00:10:15.901960Z', 'measurement_type': 'day', 'source': 'yahoo', 'value': 36327.83984375}, {'time': '2020-07-18T00:10:17.889050Z', 'measurement_type': 'day', 'source': 'yahoo', 'value': 36327.83984375}, {'time': '2020-07-18T00:10:19.542112Z', 'measurement_type': 'day', 'source': 'yahoo', 'value': 36327.83984375}, {'time': '2020-07-18T00:10:21.442943Z', 'measurement_type': 'day', 'source': 'yahoo', 'value': 36327.83984375}, {'time': '2020-07-18T00:10:23.098609Z', 'measurement_type': 'day', 'source': 'yahoo', 'value': 36327.83984375}, {'time': '2020-07-18T00:10:24.745058Z', 'measurement_type': 'day', 'source': 'yahoo', 'value': 36327.83984375}, {'time': '2020-07-18T00:10:26.659206Z', 'measurement_type': 'day', 'source': 'yahoo', 'value': 36327.83984375}, {'time': '2020-07-18T00:10:28.349627Z', 'measurement_type': 'day', 'source': 'yahoo', 'value': 36327.83984375}, {'time': '2020-07-18T00:10:30.101102Z', 'measurement_type': 'day', 'source': 'yahoo', 'value': 36327.83984375}, {'time': '2020-07-18T00:10:32.106405Z', 'measurement_type': 'day', 'source': 'yahoo', 'value': 36327.83984375}, {'time': '2020-07-18T00:10:33.896211Z', 'measurement_type': 'day', 'source': 'yahoo', 'value': 36327.83984375}, {'time': '2020-07-18T00:10:35.775321Z', 'measurement_type': 'day', 'source': 'yahoo', 'value': 36327.83984375}]})\n"
     ]
    }
   ],
   "source": [
    "print(result)"
   ]
  },
  {
   "cell_type": "code",
   "execution_count": null,
   "metadata": {},
   "outputs": [],
   "source": []
  }
 ],
 "metadata": {
  "kernelspec": {
   "display_name": "Python 3",
   "language": "python",
   "name": "python3"
  },
  "language_info": {
   "codemirror_mode": {
    "name": "ipython",
    "version": 3
   },
   "file_extension": ".py",
   "mimetype": "text/x-python",
   "name": "python",
   "nbconvert_exporter": "python",
   "pygments_lexer": "ipython3",
   "version": "3.7.6"
  }
 },
 "nbformat": 4,
 "nbformat_minor": 4
}
