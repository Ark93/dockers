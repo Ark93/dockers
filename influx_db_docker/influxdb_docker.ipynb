{
 "cells": [
  {
   "cell_type": "markdown",
   "metadata": {},
   "source": [
    "Main source:\n",
    "* https://thedatafrog.com/en/articles/docker-influxdb-grafana/\n",
    "\n",
    "Resources:\n",
    "* https://www.influxdata.com/blog/backuprestore-of-influxdb-fromto-docker-containers/\n",
    "* https://thenewstack.io/how-to-setup-influxdb-telegraf-and-grafana-on-docker-part-1/\n",
    "* https://github.com/julianespinel/stockreader/blob/master//\n",
    "\n",
    "image: https://hub.docker.com/_/influxdb?utm_source=thenewstack&utm_medium=website&utm_campaign=platform"
   ]
  },
  {
   "cell_type": "markdown",
   "metadata": {},
   "source": [
    "installing pydocker"
   ]
  },
  {
   "cell_type": "code",
   "execution_count": 1,
   "metadata": {},
   "outputs": [],
   "source": [
    "import docker\n",
    "import json"
   ]
  },
  {
   "cell_type": "code",
   "execution_count": 2,
   "metadata": {},
   "outputs": [],
   "source": [
    "client = docker.APIClient()"
   ]
  },
  {
   "cell_type": "code",
   "execution_count": 3,
   "metadata": {},
   "outputs": [
    {
     "name": "stdout",
     "output_type": "stream",
     "text": [
      "{\n",
      "    \"status\": \"Pulling from library/influxdb\",\n",
      "    \"id\": \"latest\"\n",
      "}\n",
      "{\n",
      "    \"status\": \"Digest: sha256:2c4ee7675963a8f5a388e7853f6e68a1fcabebd24ce386364356587ad374e047\"\n",
      "}\n",
      "{\n",
      "    \"status\": \"Status: Image is up to date for influxdb:latest\"\n",
      "}\n"
     ]
    }
   ],
   "source": [
    "for line in client.pull('influxdb', tag='latest', stream=True, decode=True):\n",
    "...     print(json.dumps(line, indent=4))"
   ]
  },
  {
   "cell_type": "code",
   "execution_count": 4,
   "metadata": {},
   "outputs": [
    {
     "data": {
      "text/plain": [
       "[{'Containers': -1,\n",
       "  'Created': 1593873960,\n",
       "  'Id': 'sha256:457ba1999ea8d5bd597964c3f707cbb84efb6a98dd717313b59ac39d7184c910',\n",
       "  'Labels': {'maintainer': 'Jupyter Project <jupyter@googlegroups.com>'},\n",
       "  'ParentId': '',\n",
       "  'RepoDigests': ['jupyter/scipy-notebook@sha256:698a59d01fade9055fb79d4f421ed68d78b0fc01bbedb573725833759ea6e201'],\n",
       "  'RepoTags': ['jupyter/scipy-notebook:latest'],\n",
       "  'SharedSize': -1,\n",
       "  'Size': 3989809512,\n",
       "  'VirtualSize': 3989809512},\n",
       " {'Containers': -1,\n",
       "  'Created': 1591757062,\n",
       "  'Id': 'sha256:95750833bc56d19870063238f49dbd465a7ed51928963d43f8360005004be663',\n",
       "  'Labels': None,\n",
       "  'ParentId': '',\n",
       "  'RepoDigests': ['influxdb@sha256:2c4ee7675963a8f5a388e7853f6e68a1fcabebd24ce386364356587ad374e047'],\n",
       "  'RepoTags': ['influxdb:latest'],\n",
       "  'SharedSize': -1,\n",
       "  'Size': 303913013,\n",
       "  'VirtualSize': 303913013},\n",
       " {'Containers': -1,\n",
       "  'Created': 1591721862,\n",
       "  'Id': 'sha256:2622e6cca7ebbb6e310743abce3fc47335393e79171b9d76ba9d4f446ce7b163',\n",
       "  'Labels': {'maintainer': 'NGINX Docker Maintainers <docker-maint@nginx.com>'},\n",
       "  'ParentId': '',\n",
       "  'RepoDigests': ['nginx@sha256:21f32f6c08406306d822a0e6e8b7dc81f53f336570e852e25fbe1e3e3d0d0133'],\n",
       "  'RepoTags': ['nginx:latest'],\n",
       "  'SharedSize': -1,\n",
       "  'Size': 132122017,\n",
       "  'VirtualSize': 132122017}]"
      ]
     },
     "execution_count": 4,
     "metadata": {},
     "output_type": "execute_result"
    }
   ],
   "source": [
    "client.images()\n",
    "# second element of the array contains the influxdb image"
   ]
  },
  {
   "cell_type": "code",
   "execution_count": 5,
   "metadata": {},
   "outputs": [
    {
     "name": "stdout",
     "output_type": "stream",
     "text": [
      "\n",
      " 8888888           .d888 888                   8888888b.  888888b.\n",
      "   888            d88P\"  888                   888  \"Y88b 888  \"88b\n",
      "   888            888    888                   888    888 888  .88P\n",
      "   888   88888b.  888888 888 888  888 888  888 888    888 8888888K.\n",
      "   888   888 \"88b 888    888 888  888  Y8bd8P' 888    888 888  \"Y88b\n",
      "   888   888  888 888    888 888  888   X88K   888    888 888    888\n",
      "   888   888  888 888    888 Y88b 888 .d8\"\"8b. 888  .d88P 888   d88P\n",
      " 8888888 888  888 888    888  \"Y88888 888  888 8888888P\"  8888888P\"\n",
      "\n",
      "2020-07-11T23:40:06.704843Z\tinfo\tInfluxDB starting\t{\"log_id\": \"0Nx3qnh0000\", \"version\": \"1.8.0\", \"branch\": \"1.8\", \"commit\": \"781490de48220d7695a05c29e5a36f550a4568f5\"}\n",
      "2020-07-11T23:40:06.704861Z\tinfo\tGo runtime\t{\"log_id\": \"0Nx3qnh0000\", \"version\": \"go1.13.8\", \"maxprocs\": 8}\n",
      "2020-07-11T23:40:06.771689Z\tinfo\tUsing data dir\t{\"log_id\": \"0Nx3qnh0000\", \"service\": \"store\", \"path\": \"/var/lib/influxdb/data\"}\n",
      "2020-07-11T23:40:06.771924Z\tinfo\tCompaction settings\t{\"log_id\": \"0Nx3qnh0000\", \"service\": \"store\", \"max_concurrent_compactions\": 4, \"throughput_bytes_per_second\": 50331648, \"throughput_bytes_per_second_burst\": 50331648}\n",
      "2020-07-11T23:40:06.772006Z\tinfo\tOpen store (start)\t{\"log_id\": \"0Nx3qnh0000\", \"service\": \"store\", \"trace_id\": \"0Nx3qnxl000\", \"op_name\": \"tsdb_open\", \"op_event\": \"start\"}\n",
      "2020-07-11T23:40:06.772177Z\tinfo\tOpen store (end)\t{\"log_id\": \"0Nx3qnh0000\", \"service\": \"store\", \"trace_id\": \"0Nx3qnxl000\", \"op_name\": \"tsdb_open\", \"op_event\": \"end\", \"op_elapsed\": \"0.176ms\"}\n",
      "2020-07-11T23:40:06.772281Z\tinfo\tOpened service\t{\"log_id\": \"0Nx3qnh0000\", \"service\": \"subscriber\"}\n",
      "2020-07-11T23:40:06.772317Z\tinfo\tStarting monitor service\t{\"log_id\": \"0Nx3qnh0000\", \"service\": \"monitor\"}\n",
      "2020-07-11T23:40:06.772340Z\tinfo\tRegistered diagnostics client\t{\"log_id\": \"0Nx3qnh0000\", \"service\": \"monitor\", \"name\": \"build\"}\n",
      "2020-07-11T23:40:06.772400Z\tinfo\tRegistered diagnostics client\t{\"log_id\": \"0Nx3qnh0000\", \"service\": \"monitor\", \"name\": \"runtime\"}\n",
      "2020-07-11T23:40:06.772455Z\tinfo\tRegistered diagnostics client\t{\"log_id\": \"0Nx3qnh0000\", \"service\": \"monitor\", \"name\": \"network\"}\n",
      "2020-07-11T23:40:06.772525Z\tinfo\tRegistered diagnostics client\t{\"log_id\": \"0Nx3qnh0000\", \"service\": \"monitor\", \"name\": \"system\"}\n",
      "2020-07-11T23:40:06.772602Z\tinfo\tStarting precreation service\t{\"log_id\": \"0Nx3qnh0000\", \"service\": \"shard-precreation\", \"check_interval\": \"10m\", \"advance_period\": \"30m\"}\n",
      "2020-07-11T23:40:06.772650Z\tinfo\tStarting snapshot service\t{\"log_id\": \"0Nx3qnh0000\", \"service\": \"snapshot\"}\n",
      "2020-07-11T23:40:06.772698Z\tinfo\tStarting continuous query service\t{\"log_id\": \"0Nx3qnh0000\", \"service\": \"continuous_querier\"}\n",
      "2020-07-11T23:40:06.772763Z\tinfo\tStarting HTTP service\t{\"log_id\": \"0Nx3qnh0000\", \"service\": \"httpd\", \"authentication\": false}\n",
      "2020-07-11T23:40:06.772797Z\tinfo\topened HTTP access log\t{\"log_id\": \"0Nx3qnh0000\", \"service\": \"httpd\", \"path\": \"stderr\"}\n",
      "2020-07-11T23:40:06.773014Z\tinfo\tListening on HTTP\t{\"log_id\": \"0Nx3qnh0000\", \"service\": \"httpd\", \"addr\": \"[::]:8086\", \"https\": false}\n",
      "2020-07-11T23:40:06.773086Z\tinfo\tStarting retention policy enforcement service\t{\"log_id\": \"0Nx3qnh0000\", \"service\": \"retention\", \"check_interval\": \"30m\"}\n",
      "2020-07-11T23:40:06.773650Z\tinfo\tStoring statistics\t{\"log_id\": \"0Nx3qnh0000\", \"service\": \"monitor\", \"db_instance\": \"_internal\", \"db_rp\": \"monitor\", \"interval\": \"10s\"}\n",
      "2020-07-11T23:40:06.774106Z\tinfo\tSending usage statistics to usage.influxdata.com\t{\"log_id\": \"0Nx3qnh0000\"}\n",
      "2020-07-11T23:40:06.776626Z\tinfo\tListening for signals\t{\"log_id\": \"0Nx3qnh0000\"}\n",
      "2020-07-11T23:40:36.785436Z\tinfo\tSignal received, initializing clean shutdown...\t{\"log_id\": \"0Nx3qnh0000\"}\n",
      "2020-07-11T23:40:36.785525Z\tinfo\tWaiting for clean shutdown...\t{\"log_id\": \"0Nx3qnh0000\"}\n",
      "2020-07-11T23:40:36.785649Z\tinfo\tShutting down monitor service\t{\"log_id\": \"0Nx3qnh0000\", \"service\": \"monitor\"}\n",
      "2020-07-11T23:40:36.785690Z\tinfo\tTerminating storage of statistics\t{\"log_id\": \"0Nx3qnh0000\", \"service\": \"monitor\"}\n",
      "2020-07-11T23:40:36.785720Z\tinfo\tListener closed\t{\"log_id\": \"0Nx3qnh0000\", \"service\": \"snapshot\"}\n",
      "2020-07-11T23:40:36.785817Z\tinfo\tTerminating precreation service\t{\"log_id\": \"0Nx3qnh0000\", \"service\": \"shard-precreation\"}\n",
      "2020-07-11T23:40:36.785879Z\tinfo\tTerminating continuous query service\t{\"log_id\": \"0Nx3qnh0000\", \"service\": \"continuous_querier\"}\n",
      "2020-07-11T23:40:36.786004Z\tinfo\tClosing retention policy enforcement service\t{\"log_id\": \"0Nx3qnh0000\", \"service\": \"retention\"}\n",
      "2020-07-11T23:40:36.786800Z\tinfo\tClosed service\t{\"log_id\": \"0Nx3qnh0000\", \"service\": \"subscriber\"}\n",
      "2020-07-11T23:40:36.786898Z\tinfo\tServer shutdown completed\t{\"log_id\": \"0Nx3qnh0000\"}\n"
     ]
    }
   ],
   "source": [
    "!docker run --name=influxdb -dit --network docker-net -p 8086:8086 -v /home/santos/Documents/influxdb:/var/lib/influxdb influxdb"
   ]
  },
  {
   "cell_type": "markdown",
   "metadata": {},
   "source": [
    "### To see code to connect to InfluxDb using python please check `influxdb_client.ipynb` notebook"
   ]
  },
  {
   "cell_type": "code",
   "execution_count": null,
   "metadata": {},
   "outputs": [],
   "source": []
  }
 ],
 "metadata": {
  "kernelspec": {
   "display_name": "Python 3",
   "language": "python",
   "name": "python3"
  },
  "language_info": {
   "codemirror_mode": {
    "name": "ipython",
    "version": 3
   },
   "file_extension": ".py",
   "mimetype": "text/x-python",
   "name": "python",
   "nbconvert_exporter": "python",
   "pygments_lexer": "ipython3",
   "version": "3.8.3"
  }
 },
 "nbformat": 4,
 "nbformat_minor": 4
}
