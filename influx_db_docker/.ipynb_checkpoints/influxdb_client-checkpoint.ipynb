{
 "cells": [
  {
   "cell_type": "markdown",
   "metadata": {},
   "source": [
    "**source:**\n",
    "* https://thedatafrog.com/en/articles/docker-influxdb-grafana/\n",
    "\n",
    "**resources:**\n",
    "* https://docs.influxdata.com/influxdb/v1.8/introduction/get-started/\n",
    "* https://www.influxdata.com/blog/getting-started-python-influxdb/\n",
    "* https://influxdb-python.readthedocs.io/en/latest/"
   ]
  },
  {
   "cell_type": "code",
   "execution_count": 1,
   "metadata": {},
   "outputs": [
    {
     "name": "stdout",
     "output_type": "stream",
     "text": [
      "Requirement already satisfied: influxdb in /home/santos/anaconda3/lib/python3.7/site-packages (5.3.0)\n",
      "Requirement already satisfied: six>=1.10.0 in /home/santos/anaconda3/lib/python3.7/site-packages (from influxdb) (1.14.0)\n",
      "Requirement already satisfied: msgpack==0.6.1 in /home/santos/anaconda3/lib/python3.7/site-packages (from influxdb) (0.6.1)\n",
      "Requirement already satisfied: pytz in /home/santos/anaconda3/lib/python3.7/site-packages (from influxdb) (2019.3)\n",
      "Requirement already satisfied: requests>=2.17.0 in /home/santos/anaconda3/lib/python3.7/site-packages (from influxdb) (2.22.0)\n",
      "Requirement already satisfied: python-dateutil>=2.6.0 in /home/santos/anaconda3/lib/python3.7/site-packages (from influxdb) (2.8.1)\n",
      "Requirement already satisfied: idna<2.9,>=2.5 in /home/santos/anaconda3/lib/python3.7/site-packages (from requests>=2.17.0->influxdb) (2.8)\n",
      "Requirement already satisfied: urllib3!=1.25.0,!=1.25.1,<1.26,>=1.21.1 in /home/santos/anaconda3/lib/python3.7/site-packages (from requests>=2.17.0->influxdb) (1.25.8)\n",
      "Requirement already satisfied: chardet<3.1.0,>=3.0.2 in /home/santos/anaconda3/lib/python3.7/site-packages (from requests>=2.17.0->influxdb) (3.0.4)\n",
      "Requirement already satisfied: certifi>=2017.4.17 in /home/santos/anaconda3/lib/python3.7/site-packages (from requests>=2.17.0->influxdb) (2019.11.28)\n"
     ]
    }
   ],
   "source": [
    "# instaling influxdb library\n",
    "!pip install influxdb"
   ]
  },
  {
   "cell_type": "code",
   "execution_count": 2,
   "metadata": {},
   "outputs": [],
   "source": [
    "from influxdb import InfluxDBClient\n",
    "from influxdb import exceptions"
   ]
  },
  {
   "cell_type": "code",
   "execution_count": 3,
   "metadata": {},
   "outputs": [
    {
     "name": "stdout",
     "output_type": "stream",
     "text": [
      "Connected to InfluxDB\n"
     ]
    }
   ],
   "source": [
    "try:\n",
    "    client = InfluxDBClient('localhost', 8086)\n",
    "    client.ping()\n",
    "    print('Connected to InfluxDB')\n",
    "except Exception as e:\n",
    "    print('Connection error: {}'.format(str(e)))"
   ]
  },
  {
   "cell_type": "code",
   "execution_count": 4,
   "metadata": {},
   "outputs": [],
   "source": [
    "# Creating a test db\n",
    "\n",
    "client.create_database('testdb')"
   ]
  },
  {
   "cell_type": "code",
   "execution_count": 7,
   "metadata": {},
   "outputs": [
    {
     "data": {
      "text/plain": [
       "[{'name': '_internal'}, {'name': 'testdb'}]"
      ]
     },
     "execution_count": 7,
     "metadata": {},
     "output_type": "execute_result"
    }
   ],
   "source": [
    "# Let's check the list of databases\n",
    "\n",
    "client.get_list_database()"
   ]
  },
  {
   "cell_type": "markdown",
   "metadata": {},
   "source": [
    "To send data to influxdb we have to use a JSON format to indicate \n",
    "\n",
    "1.- Measurement (mandatory field)\n",
    "2.- Tags (optional field)\n",
    "3.- Time (optional field. If no time value is given Influx db will use the system's timestamp)\n",
    "4.- Field (mandatory)"
   ]
  },
  {
   "cell_type": "code",
   "execution_count": 8,
   "metadata": {},
   "outputs": [],
   "source": [
    "# from influx db python documentation\n",
    "json_body = [\n",
    "    {\n",
    "        \"measurement\": \"cpu_load_short\",\n",
    "        \"tags\": {\n",
    "            \"host\": \"server01\",\n",
    "            \"region\": \"us-west\"\n",
    "        },\n",
    "        \"time\": \"2009-11-10T23:00:00Z\",\n",
    "        \"fields\": {\n",
    "            \"value\": 0.64\n",
    "        }\n",
    "    }\n",
    "]\n"
   ]
  },
  {
   "cell_type": "code",
   "execution_count": 10,
   "metadata": {},
   "outputs": [
    {
     "data": {
      "text/plain": [
       "True"
      ]
     },
     "execution_count": 10,
     "metadata": {},
     "output_type": "execute_result"
    }
   ],
   "source": [
    "# write_points function also can take de different fields as parameters. See documentation.\n",
    "\n",
    "client.write_points(json_body, database='testdb')"
   ]
  },
  {
   "cell_type": "code",
   "execution_count": 17,
   "metadata": {},
   "outputs": [],
   "source": [
    "# Let's check the value was stored correctly\n",
    "\n",
    "result = client.query('select \"host\", \"region\", \"value\" from cpu_load_short;', database='testdb')"
   ]
  },
  {
   "cell_type": "code",
   "execution_count": 19,
   "metadata": {},
   "outputs": [
    {
     "name": "stdout",
     "output_type": "stream",
     "text": [
      "Result: ResultSet({'('cpu_load_short', None)': [{'time': '2009-11-10T23:00:00Z', 'host': 'server01', 'region': 'us-west', 'value': 0.64}]})\n"
     ]
    }
   ],
   "source": [
    "# seems like is working just right\n",
    "print(\"Result: {0}\".format(result))"
   ]
  },
  {
   "cell_type": "code",
   "execution_count": null,
   "metadata": {},
   "outputs": [],
   "source": []
  }
 ],
 "metadata": {
  "kernelspec": {
   "display_name": "Python 3",
   "language": "python",
   "name": "python3"
  },
  "language_info": {
   "codemirror_mode": {
    "name": "ipython",
    "version": 3
   },
   "file_extension": ".py",
   "mimetype": "text/x-python",
   "name": "python",
   "nbconvert_exporter": "python",
   "pygments_lexer": "ipython3",
   "version": "3.7.6"
  }
 },
 "nbformat": 4,
 "nbformat_minor": 4
}
