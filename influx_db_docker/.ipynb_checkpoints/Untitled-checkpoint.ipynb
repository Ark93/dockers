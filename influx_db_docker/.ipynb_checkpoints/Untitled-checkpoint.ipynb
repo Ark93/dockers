{
 "cells": [
  {
   "cell_type": "markdown",
   "metadata": {},
   "source": [
    "resource:\n",
    "* https://thedatafrog.com/en/articles/docker-influxdb-grafana/\n",
    "* https://www.influxdata.com/blog/backuprestore-of-influxdb-fromto-docker-containers/\n",
    "* https://thenewstack.io/how-to-setup-influxdb-telegraf-and-grafana-on-docker-part-1/\n",
    "* https://github.com/julianespinel/stockreader/blob/master/"
   ]
  },
  {
   "cell_type": "code",
   "execution_count": null,
   "metadata": {},
   "outputs": [],
   "source": []
  }
 ],
 "metadata": {
  "kernelspec": {
   "display_name": "Python 3",
   "language": "python",
   "name": "python3"
  },
  "language_info": {
   "codemirror_mode": {
    "name": "ipython",
    "version": 3
   },
   "file_extension": ".py",
   "mimetype": "text/x-python",
   "name": "python",
   "nbconvert_exporter": "python",
   "pygments_lexer": "ipython3",
   "version": "3.8.3"
  }
 },
 "nbformat": 4,
 "nbformat_minor": 4
}
