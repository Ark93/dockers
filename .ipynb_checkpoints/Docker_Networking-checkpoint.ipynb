{
 "cells": [
  {
   "cell_type": "markdown",
   "metadata": {},
   "source": [
    "source:\n",
    "* https://docs.docker.com/network/\n",
    "* https://docs.docker.com/network/network-tutorial-standalone/"
   ]
  },
  {
   "cell_type": "markdown",
   "metadata": {},
   "source": [
    "This topic defines some basic Docker networking concepts and prepares you to design and deploy your applications to take full advantage of these capabilities."
   ]
  },
  {
   "cell_type": "markdown",
   "metadata": {},
   "source": [
    "Docker’s networking subsystem is pluggable, using drivers. Several drivers exist by default, and provide core networking functionality:\n",
    "\n",
    "   **bridge** : The default network driver. If you don’t specify a driver, this is the type of network you are creating. Bridge networks are usually used when your applications run in standalone containers that need to communicate. \n",
    "   \n",
    "   `Bridge network is the one I will use for my standalone applications`"
   ]
  },
  {
   "cell_type": "markdown",
   "metadata": {},
   "source": [
    "**Bridge** : In terms of networking, a bridge network is a Link Layer device which forwards traffic between network segments. \n",
    "\n",
    "In terms of Docker, a bridge network uses a software bridge which allows containers connected to the same bridge network to communicate, while providing isolation from containers which are not connected to that bridge network. The Docker bridge driver automatically installs rules in the host machine so that containers on different bridge networks cannot communicate directly with each other.\n",
    "\n",
    "Bridge networks apply to containers running on the same Docker daemon host. For communication among containers running on different Docker daemon hosts, you can either manage routing at the OS level, or you can use an overlay network."
   ]
  },
  {
   "cell_type": "markdown",
   "metadata": {},
   "source": [
    "Docker automatically creates a default bridge network and connects newly started dockers\n",
    "\n",
    "`! docker network ls`\n",
    "\n",
    "* NETWORK ID          NAME                DRIVER              SCOPE\n",
    "* d076d58531f6        bridge              bridge              local\n",
    "* f5bf87d4e62e        host                host                local\n",
    "* df5539a0ac8f        none                null                local\n"
   ]
  },
  {
   "cell_type": "markdown",
   "metadata": {},
   "source": [
    "Check standalone dockers are running \n",
    "! docker ps\n",
    "* 293cfd15fafa        influxdb                        \"/entrypoint.sh infl…\"   2 days ago          Up 11 seconds       0.0.0.0:8086->8086/tcp    influxdb\n",
    "* a96567852107        jupyter/scipy-notebook:latest   \"tini -g -- start-no…\"   6 days ago          Up 7 hours          0.0.0.0:10000->8888/tcp   jupyter\n"
   ]
  },
  {
   "cell_type": "markdown",
   "metadata": {},
   "source": [
    "Inspect network bridge\n",
    "\n",
    "`docker network inspect bridge`\n",
    "\n",
    "[\n",
    "    { ### bridge network information\n",
    "        \"Name\": \"bridge\",\n",
    "        \"Id\": \"08db9ee2453753a66273b5ef723d4afb63c55bc59fd47bc1f6b1a56adfbfadcb\",\n",
    "        \"Created\": \"2020-07-13T10:34:30.335929221-05:00\",\n",
    "        \"Scope\": \"local\",\n",
    "        \"Driver\": \"bridge\",\n",
    "        \"EnableIPv6\": false,\n",
    "        \"IPAM\": {\n",
    "            \"Driver\": \"default\",\n",
    "            \"Options\": null,\n",
    "            \"Config\": [\n",
    "                {\n",
    "                    \"Subnet\": \"172.17.0.0/16\",\n",
    "                    \"Gateway\": \"172.17.0.1\"  ### this is the gateway between the host and the bridge network\n",
    "                }\n",
    "            ]\n",
    "        },\n",
    "        \"Internal\": false,\n",
    "        \"Attachable\": false,\n",
    "        \"Ingress\": false,\n",
    "        \"ConfigFrom\": {\n",
    "            \"Network\": \"\"\n",
    "        },\n",
    "        \"ConfigOnly\": false,\n",
    "        \"Containers\": { ## container informations\n",
    "            \"293cfd15fafa646ad79b27be60e2ccc950af583ba1e5c32f3ee30acde0567750\": {\n",
    "                \"Name\": \"influxdb\",\n",
    "                \"EndpointID\": \"03cc39c9a64d0c97e4eae317cfd3e1ff86773bca3652ffbdb0b6794bcea6bedc\",\n",
    "                \"MacAddress\": \"02:42:ac:11:00:03\",\n",
    "                \"IPv4Address\": \"172.17.0.3/16\",\n",
    "                \"IPv6Address\": \"\"\n",
    "            },\n",
    "            \"a96567852107d54f49d756c1525ea7f90878cc138c24bf7b958d835ed5f8d952\": {\n",
    "                \"Name\": \"jupyter\",\n",
    "                \"EndpointID\": \"1920d239141d0a4009627337c013368c93d353a45614e0c2ffee1785e4262fae\",\n",
    "                \"MacAddress\": \"02:42:ac:11:00:02\",\n",
    "                \"IPv4Address\": \"172.17.0.2/16\",\n",
    "                \"IPv6Address\": \"\"\n",
    "            }\n",
    "        },\n",
    "        \"Options\": {\n",
    "            \"com.docker.network.bridge.default_bridge\": \"true\",\n",
    "            \"com.docker.network.bridge.enable_icc\": \"true\",\n",
    "            \"com.docker.network.bridge.enable_ip_masquerade\": \"true\",\n",
    "            \"com.docker.network.bridge.host_binding_ipv4\": \"0.0.0.0\",\n",
    "            \"com.docker.network.bridge.name\": \"docker0\",\n",
    "            \"com.docker.network.driver.mtu\": \"1500\"\n",
    "        },\n",
    "        \"Labels\": {}\n",
    "    }\n",
    "]\n"
   ]
  },
  {
   "cell_type": "markdown",
   "metadata": {},
   "source": [
    "Connect to docker images with root user\n",
    "\n",
    "! docker exec -it influxdb /bin/bash\n",
    "\n",
    "run `ip addr show` command in container command line to show network interfaces"
   ]
  },
  {
   "cell_type": "markdown",
   "metadata": {},
   "source": [
    "1: lo: <LOOPBACK,UP,LOWER_UP> mtu 65536 qdisc noqueue state UNKNOWN group default qlen 1000\n",
    "    link/loopback 00:00:00:00:00:00 brd 00:00:00:00:00:00\n",
    "    inet 127.0.0.1/8 scope host lo\n",
    "       valid_lft forever preferred_lft forever\n",
    "13: eth0@if14: <BROADCAST,MULTICAST,UP,LOWER_UP> mtu 1500 qdisc noqueue state UP group default\n",
    "    link/ether 02:42:ac:11:00:03 brd ff:ff:ff:ff:ff:ff link-netnsid 0\n",
    "    inet 172.17.0.3/16 brd 172.17.255.255 scope global eth0   # inet address is the same as one indicated in the container list \n",
    "       valid_lft forever preferred_lft forever"
   ]
  },
  {
   "cell_type": "markdown",
   "metadata": {},
   "source": [
    "Check docker container has access to internet by pinging google.com\n",
    "\n",
    "ping -c 2 google.com\n",
    "\n",
    "PING google.com (172.217.9.14) 56(84) bytes of data.\n",
    "64 bytes from dfw28s02-in-f14.1e100.net (172.217.9.14): icmp_seq=1 ttl=112 time=42.8 ms\n",
    "64 bytes from dfw28s02-in-f14.1e100.net (172.217.9.14): icmp_seq=2 ttl=112 time=38.5 ms\n",
    "64 bytes from dfw28s02-in-f14.1e100.net (172.217.9.14): icmp_seq=3 ttl=112 time=45.6 ms\n",
    "^C\n",
    "--- google.com ping statistics ---\n",
    "3 packets transmitted, 3 received, 0% packet loss, time 2002ms\n",
    "rtt min/avg/max/mdev = 38.554/42.373/45.688/2.943 ms\n"
   ]
  },
  {
   "cell_type": "markdown",
   "metadata": {},
   "source": [
    "# Setting user-defined network"
   ]
  },
  {
   "cell_type": "markdown",
   "metadata": {},
   "source": [
    "`docker network create --driver bridge docker-net`"
   ]
  },
  {
   "cell_type": "markdown",
   "metadata": {},
   "source": [
    "# to create and connect new dokcers\n",
    "docker run -dit --name alpine1 --network alpine-net alpine ash"
   ]
  },
  {
   "cell_type": "markdown",
   "metadata": {},
   "source": [
    "# to connect already created dockers\n",
    "docker network connect bridge alpine4"
   ]
  }
 ],
 "metadata": {
  "kernelspec": {
   "display_name": "Python 3",
   "language": "python",
   "name": "python3"
  },
  "language_info": {
   "codemirror_mode": {
    "name": "ipython",
    "version": 3
   },
   "file_extension": ".py",
   "mimetype": "text/x-python",
   "name": "python",
   "nbconvert_exporter": "python",
   "pygments_lexer": "ipython3",
   "version": "3.8.3"
  }
 },
 "nbformat": 4,
 "nbformat_minor": 4
}
