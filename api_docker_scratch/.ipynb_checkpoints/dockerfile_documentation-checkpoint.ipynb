{
 "cells": [
  {
   "cell_type": "markdown",
   "metadata": {},
   "source": [
    "source:\n",
    "* https://hub.docker.com/_/python\n",
    " \n",
    "resource: \n",
    "* https://docs.docker.com/develop/develop-images/dockerfile_best-practices/ \n",
    "* https://www.edureka.co/community/1214/running-a-cron-job-in-a-docker-conratiner\n",
    "* https://jpetazzo.github.io/2013/12/01/docker-python-pip-requirements/\n",
    "* https://medium.com/@boscacci/why-and-how-to-make-a-requirements-txt-f329c685181e"
   ]
  },
  {
   "cell_type": "markdown",
   "metadata": {},
   "source": [
    "let's use the python 3.8 Alpine distribution to minimize size"
   ]
  },
  {
   "cell_type": "markdown",
   "metadata": {},
   "source": [
    "let's have the requirements.txt based on minimal python environment\n",
    "\n",
    "`!conda create -n minimal_python python=3.8`"
   ]
  },
  {
   "cell_type": "markdown",
   "metadata": {},
   "source": [
    "installing all the required libraries\n",
    "\n",
    "* influxdb\n",
    "* yahoo_fin\n",
    "* pandas\n",
    "* requests_html"
   ]
  },
  {
   "cell_type": "markdown",
   "metadata": {},
   "source": [
    "command to generete package dependencies in requirements.txt file\n",
    "\n",
    "`!pip freeze > requirements.txt`"
   ]
  },
  {
   "cell_type": "code",
   "execution_count": 8,
   "metadata": {},
   "outputs": [
    {
     "name": "stdout",
     "output_type": "stream",
     "text": [
      "Overwriting Dockerfile\n"
     ]
    }
   ],
   "source": [
    "%%writefile Dockerfile\n",
    "FROM python:3.7.8-buster\n",
    "\n",
    "WORKDIR /usr/src/app\n",
    "\n",
    "COPY requirements.txt ./\n",
    "\n",
    "RUN pip install --no-cache-dir -r requirements.txt\n",
    "\n",
    "COPY scripts/config.py ./ \n",
    "COPY scripts/yahoo_service.py ./\n",
    "\n",
    "CMD [ \"python\", \"yahoo_service.py\" ]"
   ]
  },
  {
   "cell_type": "markdown",
   "metadata": {},
   "source": [
    "### Create docker"
   ]
  },
  {
   "cell_type": "code",
   "execution_count": 6,
   "metadata": {},
   "outputs": [
    {
     "name": "stdout",
     "output_type": "stream",
     "text": [
      "/bin/bash: docker: command not found\n"
     ]
    }
   ],
   "source": [
    "!docker run --name=python_service -it --network=docker-net -v /home/santos/Documents/service_py:/var/lib/service_py python_service"
   ]
  },
  {
   "cell_type": "code",
   "execution_count": null,
   "metadata": {},
   "outputs": [],
   "source": []
  }
 ],
 "metadata": {
  "kernelspec": {
   "display_name": "Python 3",
   "language": "python",
   "name": "python3"
  },
  "language_info": {
   "codemirror_mode": {
    "name": "ipython",
    "version": 3
   },
   "file_extension": ".py",
   "mimetype": "text/x-python",
   "name": "python",
   "nbconvert_exporter": "python",
   "pygments_lexer": "ipython3",
   "version": "3.8.3"
  }
 },
 "nbformat": 4,
 "nbformat_minor": 4
}
