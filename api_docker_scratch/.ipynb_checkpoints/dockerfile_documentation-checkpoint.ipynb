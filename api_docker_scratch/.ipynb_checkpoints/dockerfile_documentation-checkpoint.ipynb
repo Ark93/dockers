{
 "cells": [
  {
   "cell_type": "markdown",
   "metadata": {},
   "source": [
    "source:\n",
    "* https://hub.docker.com/_/python\n",
    " \n",
    "resource: \n",
    "* https://docs.docker.com/develop/develop-images/dockerfile_best-practices/ \n",
    "* https://www.edureka.co/community/1214/running-a-cron-job-in-a-docker-conratiner\n",
    "* https://jpetazzo.github.io/2013/12/01/docker-python-pip-requirements/\n",
    "* https://medium.com/@boscacci/why-and-how-to-make-a-requirements-txt-f329c685181e"
   ]
  },
  {
   "cell_type": "markdown",
   "metadata": {},
   "source": [
    "let's use the python 3.8 Alpine distribution to minimize size"
   ]
  },
  {
   "cell_type": "markdown",
   "metadata": {},
   "source": [
    "let's have the requirements.txt based on minimal python environment\n",
    "\n",
    "`!conda create -n minimal_python python=3.8`"
   ]
  },
  {
   "cell_type": "markdown",
   "metadata": {},
   "source": [
    "installing all the required libraries\n",
    "\n",
    "* influxdb\n",
    "* yahoo_fin\n",
    "* pandas\n",
    "* requests_html"
   ]
  },
  {
   "cell_type": "markdown",
   "metadata": {},
   "source": [
    "command to generete package dependencies in requirements.txt file\n",
    "\n",
    "`!pip freeze > requirements.txt`"
   ]
  },
  {
   "cell_type": "code",
   "execution_count": 1,
   "metadata": {},
   "outputs": [
    {
     "name": "stdout",
     "output_type": "stream",
     "text": [
      "Writing Dockerfile\n"
     ]
    }
   ],
   "source": [
    "%%writefile Dockerfile\n",
    "FROM python:3.8-alpine\n",
    "\n",
    "WORKDIR /usr/src/app\n",
    "\n",
    "COPY requirements.txt ./\n",
    "\n",
    "RUN apk add --update --no-cache --virtual .build-deps \\\n",
    "        python3-dev \\\n",
    "        gcc \\\n",
    "        g++ \\\n",
    "        libxml2 \\\n",
    "        libxml2-dev && \\\n",
    "    apk add libxslt-dev && \\\n",
    "apk add --no-cache curl jq python3 py3-pip\n",
    "RUN pip install --no-cache-dir -r requirements.txt\n",
    "RUN apk del .build-deps\n",
    "\n",
    "COPY scripts/config.py ./ \n",
    "COPY scripts/yahoo_service.py ./\n",
    "\n",
    "CMD [ \"python\", \"yahoo_service.py\" ]"
   ]
  },
  {
   "cell_type": "code",
   "execution_count": null,
   "metadata": {},
   "outputs": [],
   "source": [
    "RUN apk update && apk add --no-cache gcc\n",
    "libffi-dev\n",
    "g++ \n",
    "python-dev\n",
    "build-base linux-headers postgresql-dev postgresql-contrib pcre-dev bash alpine-sdk jpeg-dev zlib-dev && pip install whee"
   ]
  }
 ],
 "metadata": {
  "kernelspec": {
   "display_name": "Python 3",
   "language": "python",
   "name": "python3"
  },
  "language_info": {
   "codemirror_mode": {
    "name": "ipython",
    "version": 3
   },
   "file_extension": ".py",
   "mimetype": "text/x-python",
   "name": "python",
   "nbconvert_exporter": "python",
   "pygments_lexer": "ipython3",
   "version": "3.7.6"
  }
 },
 "nbformat": 4,
 "nbformat_minor": 4
}
